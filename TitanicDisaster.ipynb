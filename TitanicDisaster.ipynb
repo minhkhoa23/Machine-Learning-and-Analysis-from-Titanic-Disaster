{
 "cells": [
  {
   "cell_type": "markdown",
   "id": "4de59332",
   "metadata": {},
   "source": [
    "# Project Phân tích và ứng dụng máy học sự kiện chìm tàu Titanic\n",
    "<p align=\"center\">\n",
    "  <img src=\"Titanic.jpg\" alt=\"Titanic\" width=\"400\"/>\n",
    "</p>\n",
    "bối cảnh: Titanic là chiếc tàu vượt đại dương chở khách chạy bằng động cơ hơi nước đã đi vào lịch sử ngành hàng hải vì vụ tai nạn hàng hải đã xảy ra với nó cũng như những bí ẩn liên quan. Tên chính thức của nó là RMS Titanic (RMS là viết tắt của Royal Mail Ship). Tàu bắt đầu được đóng vào năm 1909 và được hạ thủy năm 1912. Là con tàu lớn, hiện đại, lộng lẫy và sang trọng nhất lúc đó, Titanic mang theo tham vọng thống trị tuyến đường biển xuyên Đại Tây Dương của công ty sở hữu nó, hãng vận tải biển The White Star Line. Tuy nhiên, trong chuyến vượt Đại Tây Dương đầu tiên và cũng là cuối cùng của nó vào tháng 4 năm 1912, Titanic đã đắm do đâm vào một tảng băng trôi, khiến hơn 1.500 người tử nạn. Vụ đắm tàu này đã đi vào lịch sử như là vụ tai nạn hàng hải nghiêm trọng nhất trong thời bình. (Wikipedia)"
   ]
  },
  {
   "cell_type": "markdown",
   "id": "fdbbdc33",
   "metadata": {},
   "source": [
    "## Các thư viện cần thiết"
   ]
  },
  {
   "cell_type": "code",
   "execution_count": 1,
   "id": "0e87712b",
   "metadata": {},
   "outputs": [],
   "source": [
    "import numpy as np\n",
    "import pandas as pd"
   ]
  }
 ],
 "metadata": {
  "kernelspec": {
   "display_name": "Python 3",
   "language": "python",
   "name": "python3"
  },
  "language_info": {
   "codemirror_mode": {
    "name": "ipython",
    "version": 3
   },
   "file_extension": ".py",
   "mimetype": "text/x-python",
   "name": "python",
   "nbconvert_exporter": "python",
   "pygments_lexer": "ipython3",
   "version": "3.13.4"
  }
 },
 "nbformat": 4,
 "nbformat_minor": 5
}
